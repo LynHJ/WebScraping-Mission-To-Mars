{
 "cells": [
  {
   "cell_type": "code",
   "execution_count": 1,
   "id": "3fba083a",
   "metadata": {},
   "outputs": [],
   "source": [
    "import json\n",
    "from splinter import Browser\n",
    "from bs4 import BeautifulSoup as bs\n",
    "from webdriver_manager.chrome import ChromeDriverManager\n",
    "import pymongo\n"
   ]
  },
  {
   "cell_type": "code",
   "execution_count": 2,
   "id": "e44a911f",
   "metadata": {},
   "outputs": [],
   "source": [
    "# For scraping with Chrome\n",
    "executable_path={'executable_path':ChromeDriverManager().install()}\n",
    "browser=Browser('chrome', **executable_path, headless=False)"
   ]
  },
  {
   "cell_type": "code",
   "execution_count": 3,
   "id": "b52a4dfd",
   "metadata": {},
   "outputs": [],
   "source": [
    "# URL of page to be scraped\n",
    "url='https://redplanetscience.com'\n",
    "browser.visit(url)"
   ]
  },
  {
   "cell_type": "code",
   "execution_count": 4,
   "id": "2e0333a7",
   "metadata": {},
   "outputs": [],
   "source": [
    "# Initialise PyMongo to work with MongoDBs\n",
    "conn = 'mongodb://localhost:27017'\n",
    "client = pymongo.MongoClient(conn)"
   ]
  },
  {
   "cell_type": "code",
   "execution_count": 5,
   "id": "6278d79c",
   "metadata": {},
   "outputs": [],
   "source": [
    "# Define database and collection\n",
    "db = client.marsMission_db"
   ]
  },
  {
   "cell_type": "code",
   "execution_count": 6,
   "id": "c76f55a1",
   "metadata": {},
   "outputs": [
    {
     "name": "stdout",
     "output_type": "stream",
     "text": [
      "[{'title:': 'Scientists Explore Outback as Testbed for Mars ', 'preview:': \"Australia provides a great place for NASA's Mars 2020 and the ESA-Roscosmos ExoMars scientists to hone techniques in preparation for searching for signs ancient life on Mars.\"}, {'title:': \"3 Things We've Learned From NASA's Mars InSight \", 'preview:': 'Scientists are finding new mysteries since the geophysics mission landed two years ago.'}, {'title:': \"Q&A with the Student Who Named Ingenuity, NASA's Mars Helicopter\", 'preview:': 'As a longtime fan of space exploration, Vaneeza Rupani appreciates the creativity and collaboration involved with trying to fly on another planet.'}, {'title:': \"NASA's Mars Perseverance Rover Gets Its Sample Handling System\", 'preview:': 'The system will be collecting and storing Martian rock and soil. Its installation marks another milestone in the march toward the July launch period.'}, {'title:': 'NASA Moves Forward With Campaign to Return Mars Samples to Earth', 'preview:': 'During this next phase, the program will mature critical technologies and make critical design decisions as well as assess industry partnerships.'}, {'title:': \"NASA's Perseverance Rover Will Look at Mars Through These 'Eyes'\", 'preview:': 'A pair of zoomable cameras will help scientists and rover drivers with high-resolution color images.'}, {'title:': \"A Martian Roundtrip: NASA's Perseverance Rover Sample Tubes\", 'preview:': \"Marvels of engineering, the rover's sample tubes must be tough enough to safely bring Red Planet samples on the long journey back to Earth in immaculate condition. \"}, {'title:': \"NASA's InSight 'Hears' Peculiar Sounds on Mars\", 'preview:': 'Listen to the marsquakes and other, less-expected sounds that the Mars lander has been detecting.'}, {'title:': \"NASA's Mars Helicopter Attached to Mars 2020 Rover \", 'preview:': 'The helicopter will be first aircraft to perform flight tests on another planet.'}, {'title:': \"From JPL's Mailroom to Mars and Beyond\", 'preview:': 'Bill Allen has thrived as the mechanical systems design lead for three Mars rover missions, but he got his start as a teenager sorting letters for the NASA center.'}, {'title:': \"NASA's Perseverance Rover 100 Days Out\", 'preview:': \"Mark your calendars: The agency's latest rover has only about 8,640,000 seconds to go before it touches down on the Red Planet, becoming history's next Mars car.\"}, {'title:': 'NASA to Reveal Name of Its Next Mars Rover', 'preview:': \"After a months-long contest among students to name NASA's newest Mars rover, the agency will reveal the winning name — and the winning student — this Thursday. \"}, {'title:': \"NASA's InSight Flexes Its Arm While Its 'Mole' Hits Pause\", 'preview:': \"Now that the lander's robotic arm has helped the mole get underground, it will resume science activities that have been on hold.\"}, {'title:': \"Meet the People Behind NASA's Perseverance Rover\", 'preview:': \"These are the scientists and engineers who built NASA's next Mars rover and who will guide it to a safe landing in Jezero Crater. \"}, {'title:': \"Curiosity Mars Rover's Summer Road Trip Has Begun\", 'preview:': 'After more than a year in the \"clay-bearing unit,\" Curiosity is making a mile-long journey around some deep sand so that it can explore higher up Mount Sharp.'}]\n"
     ]
    }
   ],
   "source": [
    "html = browser.html\n",
    "soup = bs(html, 'lxml')\n",
    "\n",
    "results = soup.find_all('div', class_='list_text')\n",
    "\n",
    "posts=[]\n",
    "\n",
    "for result in results:\n",
    "    try:\n",
    "        \n",
    "        title = result.find('div',class_='content_title').text\n",
    "        \n",
    "        preview = result.find('div',class_='article_teaser_body').text\n",
    "\n",
    "        post={'title:':title,'preview:':preview }\n",
    "        \n",
    "        posts.append(post)\n",
    "        \n",
    "        \n",
    "    except Exception as e:\n",
    "        print(e)\n",
    "        \n",
    "    \n",
    "    browser.links.find_by_partial_text('More').click()\n",
    "\n",
    "        \n",
    "print(posts)"
   ]
  },
  {
   "cell_type": "code",
   "execution_count": 7,
   "id": "1636e100",
   "metadata": {},
   "outputs": [],
   "source": [
    "# scraped data to a JSON file\n",
    "\n",
    "with open('data.json', 'w') as f:     \n",
    "    json.dump(posts, f)      "
   ]
  },
  {
   "cell_type": "code",
   "execution_count": 8,
   "id": "e495e19b",
   "metadata": {},
   "outputs": [],
   "source": [
    "browser.quit()"
   ]
  },
  {
   "cell_type": "code",
   "execution_count": 9,
   "id": "1c73f1bb",
   "metadata": {},
   "outputs": [
    {
     "data": {
      "text/plain": [
       "<pymongo.results.InsertManyResult at 0x7f7e4a6afdc0>"
      ]
     },
     "execution_count": 9,
     "metadata": {},
     "output_type": "execute_result"
    }
   ],
   "source": [
    "db.marsMission.insert_many(posts)"
   ]
  },
  {
   "cell_type": "code",
   "execution_count": 10,
   "id": "ecefe36d",
   "metadata": {},
   "outputs": [
    {
     "name": "stdout",
     "output_type": "stream",
     "text": [
      "{'_id': ObjectId('6329cb85c5c2a9b2733d00f5'), 'title:': 'Scientists Explore Outback as Testbed for Mars ', 'preview:': \"Australia provides a great place for NASA's Mars 2020 and the ESA-Roscosmos ExoMars scientists to hone techniques in preparation for searching for signs ancient life on Mars.\"}\n",
      "{'_id': ObjectId('6329cb85c5c2a9b2733d00f6'), 'title:': \"3 Things We've Learned From NASA's Mars InSight \", 'preview:': 'Scientists are finding new mysteries since the geophysics mission landed two years ago.'}\n",
      "{'_id': ObjectId('6329cb85c5c2a9b2733d00f7'), 'title:': \"Q&A with the Student Who Named Ingenuity, NASA's Mars Helicopter\", 'preview:': 'As a longtime fan of space exploration, Vaneeza Rupani appreciates the creativity and collaboration involved with trying to fly on another planet.'}\n",
      "{'_id': ObjectId('6329cb85c5c2a9b2733d00f8'), 'title:': \"NASA's Mars Perseverance Rover Gets Its Sample Handling System\", 'preview:': 'The system will be collecting and storing Martian rock and soil. Its installation marks another milestone in the march toward the July launch period.'}\n",
      "{'_id': ObjectId('6329cb85c5c2a9b2733d00f9'), 'title:': 'NASA Moves Forward With Campaign to Return Mars Samples to Earth', 'preview:': 'During this next phase, the program will mature critical technologies and make critical design decisions as well as assess industry partnerships.'}\n",
      "{'_id': ObjectId('6329cb85c5c2a9b2733d00fa'), 'title:': \"NASA's Perseverance Rover Will Look at Mars Through These 'Eyes'\", 'preview:': 'A pair of zoomable cameras will help scientists and rover drivers with high-resolution color images.'}\n",
      "{'_id': ObjectId('6329cb85c5c2a9b2733d00fb'), 'title:': \"A Martian Roundtrip: NASA's Perseverance Rover Sample Tubes\", 'preview:': \"Marvels of engineering, the rover's sample tubes must be tough enough to safely bring Red Planet samples on the long journey back to Earth in immaculate condition. \"}\n",
      "{'_id': ObjectId('6329cb85c5c2a9b2733d00fc'), 'title:': \"NASA's InSight 'Hears' Peculiar Sounds on Mars\", 'preview:': 'Listen to the marsquakes and other, less-expected sounds that the Mars lander has been detecting.'}\n",
      "{'_id': ObjectId('6329cb85c5c2a9b2733d00fd'), 'title:': \"NASA's Mars Helicopter Attached to Mars 2020 Rover \", 'preview:': 'The helicopter will be first aircraft to perform flight tests on another planet.'}\n",
      "{'_id': ObjectId('6329cb85c5c2a9b2733d00fe'), 'title:': \"From JPL's Mailroom to Mars and Beyond\", 'preview:': 'Bill Allen has thrived as the mechanical systems design lead for three Mars rover missions, but he got his start as a teenager sorting letters for the NASA center.'}\n",
      "{'_id': ObjectId('6329cb85c5c2a9b2733d00ff'), 'title:': \"NASA's Perseverance Rover 100 Days Out\", 'preview:': \"Mark your calendars: The agency's latest rover has only about 8,640,000 seconds to go before it touches down on the Red Planet, becoming history's next Mars car.\"}\n",
      "{'_id': ObjectId('6329cb85c5c2a9b2733d0100'), 'title:': 'NASA to Reveal Name of Its Next Mars Rover', 'preview:': \"After a months-long contest among students to name NASA's newest Mars rover, the agency will reveal the winning name — and the winning student — this Thursday. \"}\n",
      "{'_id': ObjectId('6329cb85c5c2a9b2733d0101'), 'title:': \"NASA's InSight Flexes Its Arm While Its 'Mole' Hits Pause\", 'preview:': \"Now that the lander's robotic arm has helped the mole get underground, it will resume science activities that have been on hold.\"}\n",
      "{'_id': ObjectId('6329cb85c5c2a9b2733d0102'), 'title:': \"Meet the People Behind NASA's Perseverance Rover\", 'preview:': \"These are the scientists and engineers who built NASA's next Mars rover and who will guide it to a safe landing in Jezero Crater. \"}\n",
      "{'_id': ObjectId('6329cb85c5c2a9b2733d0103'), 'title:': \"Curiosity Mars Rover's Summer Road Trip Has Begun\", 'preview:': 'After more than a year in the \"clay-bearing unit,\" Curiosity is making a mile-long journey around some deep sand so that it can explore higher up Mount Sharp.'}\n"
     ]
    }
   ],
   "source": [
    "datas=db.marsMission.find()\n",
    "\n",
    "for data in datas:\n",
    "    print(data)"
   ]
  }
 ],
 "metadata": {
  "kernelspec": {
   "display_name": "Python [conda env:PythonData] *",
   "language": "python",
   "name": "conda-env-PythonData-py"
  },
  "language_info": {
   "codemirror_mode": {
    "name": "ipython",
    "version": 3
   },
   "file_extension": ".py",
   "mimetype": "text/x-python",
   "name": "python",
   "nbconvert_exporter": "python",
   "pygments_lexer": "ipython3",
   "version": "3.7.7"
  }
 },
 "nbformat": 4,
 "nbformat_minor": 5
}
