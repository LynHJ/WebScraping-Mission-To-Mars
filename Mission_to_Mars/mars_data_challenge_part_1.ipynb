{
 "cells": [
  {
   "cell_type": "code",
   "execution_count": 1,
   "id": "f204ac79",
   "metadata": {},
   "outputs": [],
   "source": [
    "import json\n",
    "from splinter import Browser\n",
    "from bs4 import BeautifulSoup as bs\n",
    "from webdriver_manager.chrome import ChromeDriverManager\n",
    "import pymongo\n"
   ]
  },
  {
   "cell_type": "code",
   "execution_count": 2,
   "id": "496b11ca",
   "metadata": {},
   "outputs": [],
   "source": [
    "# For scraping with Chrome\n",
    "executable_path={'executable_path':ChromeDriverManager().install()}\n",
    "browser=Browser('chrome', **executable_path, headless=False)"
   ]
  },
  {
   "cell_type": "code",
   "execution_count": 3,
   "id": "7ae85e90",
   "metadata": {},
   "outputs": [],
   "source": [
    "# URL of page to be scraped\n",
    "url='https://redplanetscience.com'\n",
    "browser.visit(url)"
   ]
  },
  {
   "cell_type": "code",
   "execution_count": 4,
   "id": "67075805",
   "metadata": {},
   "outputs": [],
   "source": [
    "# Initialise PyMongo to work with MongoDBs\n",
    "conn = 'mongodb://localhost:27017'\n",
    "client = pymongo.MongoClient(conn)"
   ]
  },
  {
   "cell_type": "code",
   "execution_count": 5,
   "id": "91c58fb5",
   "metadata": {},
   "outputs": [],
   "source": [
    "# Define database and collection\n",
    "db = client.marsMission_db"
   ]
  },
  {
   "cell_type": "code",
   "execution_count": 6,
   "id": "05c366b8",
   "metadata": {},
   "outputs": [
    {
     "name": "stdout",
     "output_type": "stream",
     "text": [
      "[{'title:': \"NASA's Mars Reconnaissance Orbiter Undergoes Memory Update\", 'preview:': 'Other orbiters will continue relaying data from Mars surface missions for a two-week period.'}, {'title:': \"NASA's Perseverance Rover Goes Through Trials by Fire, Ice, Light and Sound\", 'preview:': \"The agency's new Mars rover is put through a series of tests in vacuum chambers, acoustic chambers and more to get ready for the Red Planet.\"}, {'title:': 'NASA to Broadcast Mars 2020 Perseverance Launch, Prelaunch Activities', 'preview:': 'Starting July 27, news activities will cover everything from mission engineering and science to returning samples from Mars to, of course, the launch itself.'}, {'title:': 'The MarCO Mission Comes to an End', 'preview:': 'The pair of briefcase-sized satellites made history when they sailed past Mars in 2019.'}, {'title:': \"NASA's Push to Save the Mars InSight Lander's Heat Probe\", 'preview:': \"The scoop on the end of the spacecraft's robotic arm will be used to 'pin' the mole against the wall of its hole.\"}, {'title:': \"From JPL's Mailroom to Mars and Beyond\", 'preview:': 'Bill Allen has thrived as the mechanical systems design lead for three Mars rover missions, but he got his start as a teenager sorting letters for the NASA center.'}, {'title:': \"Deadline Closing for Names to Fly on NASA's Next Mars Rover\", 'preview:': 'You have until Sept. 30 to send your names to Mars aboard the Mars 2020 rover. '}, {'title:': \"Hear Audio From NASA's Perseverance As It Travels Through Deep Space\", 'preview:': \"The first to be rigged with microphones, the agency's latest Mars rover picked up the subtle sounds of its own inner workings during interplanetary flight.\"}, {'title:': \"NASA's Mars 2020 Heads Into the Test Chamber\", 'preview:': 'In this time-lapse video taken at JPL, engineers move the Mars 2020 rover into a large vacuum chamber for testing in Mars-like environmental conditions.'}, {'title:': \"While Stargazing on Mars, NASA's Curiosity Rover Spots Earth and Venus\", 'preview:': \"This new portrait of the Red Planet's neighbors was taken during a time when there's more dust in the air on Mars.\"}, {'title:': \"NASA-JPL Names 'Rolling Stones Rock' on Mars\", 'preview:': \"NASA's Mars InSight mission honored one of the biggest bands of all time at Pasadena concert.\"}, {'title:': 'Space History Is Made in This NASA Robot Factory', 'preview:': \"From rockets to rovers, JPL's Spacecraft Assembly Facility has been at the center of robotic spaceflight. Here's a closer look at what makes it so special.\"}, {'title:': \"Common Questions about InSight's 'Mole'\", 'preview:': 'The following Q&As with members of the team answer some of the most common questions about the burrowing device, part of a science instrument called the Heat Flow and Physical Properties Package (HP3).'}, {'title:': \"Nine Finalists Chosen in NASA's Mars 2020 Rover Naming Contest\", 'preview:': \"Nine finalists have been chosen in the essay contest for K-12 students across U.S. to name NASA's next Mars rover. Now you can help by voting for your favorite. \"}, {'title:': \"NASA's Mars 2020 Rover Goes Coast-to-Coast to Prep for Launch\", 'preview:': \"The agency's first step in returning rocks from Mars just arrived at Kennedy Space Center. The Mars 2020 team now begins readying for a launch to the Red Planet this July.\"}]\n"
     ]
    }
   ],
   "source": [
    "html = browser.html\n",
    "soup = bs(html, 'lxml')\n",
    "\n",
    "results = soup.find_all('div', class_='list_text')\n",
    "\n",
    "posts=[]\n",
    "\n",
    "for result in results:\n",
    "    try:\n",
    "        \n",
    "        title = result.find('div',class_='content_title').text\n",
    "        \n",
    "        preview = result.find('div',class_='article_teaser_body').text\n",
    "\n",
    "        post={'title:':title,'preview:':preview }\n",
    "        \n",
    "        posts.append(post)\n",
    "\n",
    "    except Exception as e:\n",
    "        print(e)\n",
    "        \n",
    "\n",
    "        \n",
    "print(posts)"
   ]
  },
  {
   "cell_type": "code",
   "execution_count": 7,
   "id": "d0bb1730",
   "metadata": {},
   "outputs": [],
   "source": [
    "# scraped data to a JSON file\n",
    "\n",
    "with open('data.json', 'w') as f:     \n",
    "    json.dump(posts, f)      "
   ]
  },
  {
   "cell_type": "code",
   "execution_count": 8,
   "id": "7b1a8b68",
   "metadata": {},
   "outputs": [],
   "source": [
    "browser.quit()"
   ]
  },
  {
   "cell_type": "code",
   "execution_count": 9,
   "id": "278ff898",
   "metadata": {},
   "outputs": [
    {
     "data": {
      "text/plain": [
       "<pymongo.results.InsertManyResult at 0x7f9ec801ae10>"
      ]
     },
     "execution_count": 9,
     "metadata": {},
     "output_type": "execute_result"
    }
   ],
   "source": [
    "db.marsMission.insert_many(posts)"
   ]
  },
  {
   "cell_type": "code",
   "execution_count": 10,
   "id": "449d5539",
   "metadata": {},
   "outputs": [
    {
     "name": "stdout",
     "output_type": "stream",
     "text": [
      "{'_id': ObjectId('63294a23c93f0468f5c4c475'), 'title:': \"NASA's Mars Reconnaissance Orbiter Undergoes Memory Update\", 'preview:': 'Other orbiters will continue relaying data from Mars surface missions for a two-week period.'}\n",
      "{'_id': ObjectId('63294a23c93f0468f5c4c476'), 'title:': \"NASA's Perseverance Rover Goes Through Trials by Fire, Ice, Light and Sound\", 'preview:': \"The agency's new Mars rover is put through a series of tests in vacuum chambers, acoustic chambers and more to get ready for the Red Planet.\"}\n",
      "{'_id': ObjectId('63294a23c93f0468f5c4c477'), 'title:': 'NASA to Broadcast Mars 2020 Perseverance Launch, Prelaunch Activities', 'preview:': 'Starting July 27, news activities will cover everything from mission engineering and science to returning samples from Mars to, of course, the launch itself.'}\n",
      "{'_id': ObjectId('63294a23c93f0468f5c4c478'), 'title:': 'The MarCO Mission Comes to an End', 'preview:': 'The pair of briefcase-sized satellites made history when they sailed past Mars in 2019.'}\n",
      "{'_id': ObjectId('63294a23c93f0468f5c4c479'), 'title:': \"NASA's Push to Save the Mars InSight Lander's Heat Probe\", 'preview:': \"The scoop on the end of the spacecraft's robotic arm will be used to 'pin' the mole against the wall of its hole.\"}\n",
      "{'_id': ObjectId('63294a23c93f0468f5c4c47a'), 'title:': \"From JPL's Mailroom to Mars and Beyond\", 'preview:': 'Bill Allen has thrived as the mechanical systems design lead for three Mars rover missions, but he got his start as a teenager sorting letters for the NASA center.'}\n",
      "{'_id': ObjectId('63294a23c93f0468f5c4c47b'), 'title:': \"Deadline Closing for Names to Fly on NASA's Next Mars Rover\", 'preview:': 'You have until Sept. 30 to send your names to Mars aboard the Mars 2020 rover. '}\n",
      "{'_id': ObjectId('63294a23c93f0468f5c4c47c'), 'title:': \"Hear Audio From NASA's Perseverance As It Travels Through Deep Space\", 'preview:': \"The first to be rigged with microphones, the agency's latest Mars rover picked up the subtle sounds of its own inner workings during interplanetary flight.\"}\n",
      "{'_id': ObjectId('63294a23c93f0468f5c4c47d'), 'title:': \"NASA's Mars 2020 Heads Into the Test Chamber\", 'preview:': 'In this time-lapse video taken at JPL, engineers move the Mars 2020 rover into a large vacuum chamber for testing in Mars-like environmental conditions.'}\n",
      "{'_id': ObjectId('63294a23c93f0468f5c4c47e'), 'title:': \"While Stargazing on Mars, NASA's Curiosity Rover Spots Earth and Venus\", 'preview:': \"This new portrait of the Red Planet's neighbors was taken during a time when there's more dust in the air on Mars.\"}\n",
      "{'_id': ObjectId('63294a23c93f0468f5c4c47f'), 'title:': \"NASA-JPL Names 'Rolling Stones Rock' on Mars\", 'preview:': \"NASA's Mars InSight mission honored one of the biggest bands of all time at Pasadena concert.\"}\n",
      "{'_id': ObjectId('63294a23c93f0468f5c4c480'), 'title:': 'Space History Is Made in This NASA Robot Factory', 'preview:': \"From rockets to rovers, JPL's Spacecraft Assembly Facility has been at the center of robotic spaceflight. Here's a closer look at what makes it so special.\"}\n",
      "{'_id': ObjectId('63294a23c93f0468f5c4c481'), 'title:': \"Common Questions about InSight's 'Mole'\", 'preview:': 'The following Q&As with members of the team answer some of the most common questions about the burrowing device, part of a science instrument called the Heat Flow and Physical Properties Package (HP3).'}\n",
      "{'_id': ObjectId('63294a23c93f0468f5c4c482'), 'title:': \"Nine Finalists Chosen in NASA's Mars 2020 Rover Naming Contest\", 'preview:': \"Nine finalists have been chosen in the essay contest for K-12 students across U.S. to name NASA's next Mars rover. Now you can help by voting for your favorite. \"}\n",
      "{'_id': ObjectId('63294a23c93f0468f5c4c483'), 'title:': \"NASA's Mars 2020 Rover Goes Coast-to-Coast to Prep for Launch\", 'preview:': \"The agency's first step in returning rocks from Mars just arrived at Kennedy Space Center. The Mars 2020 team now begins readying for a launch to the Red Planet this July.\"}\n"
     ]
    }
   ],
   "source": [
    "datas=db.marsMission.find()\n",
    "\n",
    "for data in datas:\n",
    "    print(data)"
   ]
  }
 ],
 "metadata": {
  "kernelspec": {
   "display_name": "Python [conda env:PythonData] *",
   "language": "python",
   "name": "conda-env-PythonData-py"
  },
  "language_info": {
   "codemirror_mode": {
    "name": "ipython",
    "version": 3
   },
   "file_extension": ".py",
   "mimetype": "text/x-python",
   "name": "python",
   "nbconvert_exporter": "python",
   "pygments_lexer": "ipython3",
   "version": "3.7.7"
  }
 },
 "nbformat": 4,
 "nbformat_minor": 5
}
